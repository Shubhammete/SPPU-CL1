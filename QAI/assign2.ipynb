{
 "cells": [
  {
   "cell_type": "code",
   "execution_count": 2,
   "metadata": {},
   "outputs": [
    {
     "name": "stdout",
     "output_type": "stream",
     "text": [
      "Requirement already satisfied: qiskit in c:\\users\\hp\\appdata\\local\\programs\\python\\python312\\lib\\site-packages (1.2.2)\n",
      "Requirement already satisfied: qiskit-aer in c:\\users\\hp\\appdata\\local\\programs\\python\\python312\\lib\\site-packages (0.15.1)\n",
      "Requirement already satisfied: rustworkx>=0.15.0 in c:\\users\\hp\\appdata\\local\\programs\\python\\python312\\lib\\site-packages (from qiskit) (0.15.1)\n",
      "Requirement already satisfied: numpy<3,>=1.17 in c:\\users\\hp\\appdata\\local\\programs\\python\\python312\\lib\\site-packages (from qiskit) (1.26.4)\n",
      "Requirement already satisfied: scipy>=1.5 in c:\\users\\hp\\appdata\\local\\programs\\python\\python312\\lib\\site-packages (from qiskit) (1.13.0)\n",
      "Requirement already satisfied: sympy>=1.3 in c:\\users\\hp\\appdata\\local\\programs\\python\\python312\\lib\\site-packages (from qiskit) (1.13.2)\n",
      "Requirement already satisfied: dill>=0.3 in c:\\users\\hp\\appdata\\local\\programs\\python\\python312\\lib\\site-packages (from qiskit) (0.3.8)\n",
      "Requirement already satisfied: python-dateutil>=2.8.0 in c:\\users\\hp\\appdata\\roaming\\python\\python312\\site-packages (from qiskit) (2.8.2)\n",
      "Requirement already satisfied: stevedore>=3.0.0 in c:\\users\\hp\\appdata\\local\\programs\\python\\python312\\lib\\site-packages (from qiskit) (5.3.0)\n",
      "Requirement already satisfied: typing-extensions in c:\\users\\hp\\appdata\\local\\programs\\python\\python312\\lib\\site-packages (from qiskit) (4.11.0)\n",
      "Requirement already satisfied: symengine>=0.11 in c:\\users\\hp\\appdata\\local\\programs\\python\\python312\\lib\\site-packages (from qiskit) (0.11.0)\n",
      "Requirement already satisfied: psutil>=5 in c:\\users\\hp\\appdata\\roaming\\python\\python312\\site-packages (from qiskit-aer) (5.9.6)\n",
      "Requirement already satisfied: six>=1.5 in c:\\users\\hp\\appdata\\roaming\\python\\python312\\site-packages (from python-dateutil>=2.8.0->qiskit) (1.16.0)\n",
      "Requirement already satisfied: pbr>=2.0.0 in c:\\users\\hp\\appdata\\local\\programs\\python\\python312\\lib\\site-packages (from stevedore>=3.0.0->qiskit) (6.1.0)\n",
      "Requirement already satisfied: mpmath<1.4,>=1.1.0 in c:\\users\\hp\\appdata\\local\\programs\\python\\python312\\lib\\site-packages (from sympy>=1.3->qiskit) (1.3.0)\n"
     ]
    },
    {
     "name": "stderr",
     "output_type": "stream",
     "text": [
      "\n",
      "[notice] A new release of pip is available: 24.0 -> 24.3.1\n",
      "[notice] To update, run: python.exe -m pip install --upgrade pip\n"
     ]
    },
    {
     "name": "stdout",
     "output_type": "stream",
     "text": [
      "Collecting mthree\n",
      "  Downloading mthree-2.8.0-cp312-cp312-win_amd64.whl.metadata (5.0 kB)\n",
      "Requirement already satisfied: numpy>=1.23 in c:\\users\\hp\\appdata\\local\\programs\\python\\python312\\lib\\site-packages (from mthree) (1.26.4)\n",
      "Requirement already satisfied: scipy>=1.11.1 in c:\\users\\hp\\appdata\\local\\programs\\python\\python312\\lib\\site-packages (from mthree) (1.13.0)\n",
      "Collecting cython>=3.0.10 (from mthree)\n",
      "  Downloading Cython-3.0.11-cp312-cp312-win_amd64.whl.metadata (3.2 kB)\n",
      "Requirement already satisfied: qiskit>=1.0 in c:\\users\\hp\\appdata\\local\\programs\\python\\python312\\lib\\site-packages (from mthree) (1.2.2)\n",
      "Requirement already satisfied: psutil in c:\\users\\hp\\appdata\\roaming\\python\\python312\\site-packages (from mthree) (5.9.6)\n",
      "Requirement already satisfied: orjson>=3.0.0 in c:\\users\\hp\\appdata\\local\\programs\\python\\python312\\lib\\site-packages (from mthree) (3.10.7)\n",
      "Collecting runningman>=2.1 (from mthree)\n",
      "  Downloading runningman-2.2.0-py3-none-any.whl.metadata (2.4 kB)\n",
      "Requirement already satisfied: rustworkx>=0.15.0 in c:\\users\\hp\\appdata\\local\\programs\\python\\python312\\lib\\site-packages (from qiskit>=1.0->mthree) (0.15.1)\n",
      "Requirement already satisfied: sympy>=1.3 in c:\\users\\hp\\appdata\\local\\programs\\python\\python312\\lib\\site-packages (from qiskit>=1.0->mthree) (1.13.2)\n",
      "Requirement already satisfied: dill>=0.3 in c:\\users\\hp\\appdata\\local\\programs\\python\\python312\\lib\\site-packages (from qiskit>=1.0->mthree) (0.3.8)\n",
      "Requirement already satisfied: python-dateutil>=2.8.0 in c:\\users\\hp\\appdata\\roaming\\python\\python312\\site-packages (from qiskit>=1.0->mthree) (2.8.2)\n",
      "Requirement already satisfied: stevedore>=3.0.0 in c:\\users\\hp\\appdata\\local\\programs\\python\\python312\\lib\\site-packages (from qiskit>=1.0->mthree) (5.3.0)\n",
      "Requirement already satisfied: typing-extensions in c:\\users\\hp\\appdata\\local\\programs\\python\\python312\\lib\\site-packages (from qiskit>=1.0->mthree) (4.11.0)\n",
      "Requirement already satisfied: symengine>=0.11 in c:\\users\\hp\\appdata\\local\\programs\\python\\python312\\lib\\site-packages (from qiskit>=1.0->mthree) (0.11.0)\n",
      "Collecting qiskit-ibm-runtime>=0.22 (from runningman>=2.1->mthree)\n",
      "  Downloading qiskit_ibm_runtime-0.32.0-py3-none-any.whl.metadata (19 kB)\n",
      "Requirement already satisfied: six>=1.5 in c:\\users\\hp\\appdata\\roaming\\python\\python312\\site-packages (from python-dateutil>=2.8.0->qiskit>=1.0->mthree) (1.16.0)\n",
      "Requirement already satisfied: requests>=2.19 in c:\\users\\hp\\appdata\\local\\programs\\python\\python312\\lib\\site-packages (from qiskit-ibm-runtime>=0.22->runningman>=2.1->mthree) (2.31.0)\n",
      "Collecting requests-ntlm>=1.1.0 (from qiskit-ibm-runtime>=0.22->runningman>=2.1->mthree)\n",
      "  Downloading requests_ntlm-1.3.0-py3-none-any.whl.metadata (2.4 kB)\n",
      "Requirement already satisfied: urllib3>=1.21.1 in c:\\users\\hp\\appdata\\local\\programs\\python\\python312\\lib\\site-packages (from qiskit-ibm-runtime>=0.22->runningman>=2.1->mthree) (2.2.1)\n",
      "Requirement already satisfied: websocket-client>=1.5.1 in c:\\users\\hp\\appdata\\local\\programs\\python\\python312\\lib\\site-packages (from qiskit-ibm-runtime>=0.22->runningman>=2.1->mthree) (1.8.0)\n",
      "Collecting ibm-platform-services>=0.22.6 (from qiskit-ibm-runtime>=0.22->runningman>=2.1->mthree)\n",
      "  Downloading ibm_platform_services-0.59.0-py3-none-any.whl.metadata (9.0 kB)\n",
      "Requirement already satisfied: pydantic>=2.5.0 in c:\\users\\hp\\appdata\\local\\programs\\python\\python312\\lib\\site-packages (from qiskit-ibm-runtime>=0.22->runningman>=2.1->mthree) (2.8.2)\n",
      "Requirement already satisfied: pbr>=2.0.0 in c:\\users\\hp\\appdata\\local\\programs\\python\\python312\\lib\\site-packages (from stevedore>=3.0.0->qiskit>=1.0->mthree) (6.1.0)\n",
      "Requirement already satisfied: mpmath<1.4,>=1.1.0 in c:\\users\\hp\\appdata\\local\\programs\\python\\python312\\lib\\site-packages (from sympy>=1.3->qiskit>=1.0->mthree) (1.3.0)\n",
      "Collecting ibm-cloud-sdk-core<4.0.0,>=3.22.0 (from ibm-platform-services>=0.22.6->qiskit-ibm-runtime>=0.22->runningman>=2.1->mthree)\n",
      "  Downloading ibm_cloud_sdk_core-3.22.0-py3-none-any.whl.metadata (8.6 kB)\n",
      "Requirement already satisfied: annotated-types>=0.4.0 in c:\\users\\hp\\appdata\\local\\programs\\python\\python312\\lib\\site-packages (from pydantic>=2.5.0->qiskit-ibm-runtime>=0.22->runningman>=2.1->mthree) (0.7.0)\n",
      "Requirement already satisfied: pydantic-core==2.20.1 in c:\\users\\hp\\appdata\\local\\programs\\python\\python312\\lib\\site-packages (from pydantic>=2.5.0->qiskit-ibm-runtime>=0.22->runningman>=2.1->mthree) (2.20.1)\n",
      "Requirement already satisfied: charset-normalizer<4,>=2 in c:\\users\\hp\\appdata\\local\\programs\\python\\python312\\lib\\site-packages (from requests>=2.19->qiskit-ibm-runtime>=0.22->runningman>=2.1->mthree) (3.3.2)\n",
      "Requirement already satisfied: idna<4,>=2.5 in c:\\users\\hp\\appdata\\local\\programs\\python\\python312\\lib\\site-packages (from requests>=2.19->qiskit-ibm-runtime>=0.22->runningman>=2.1->mthree) (3.7)\n",
      "Requirement already satisfied: certifi>=2017.4.17 in c:\\users\\hp\\appdata\\local\\programs\\python\\python312\\lib\\site-packages (from requests>=2.19->qiskit-ibm-runtime>=0.22->runningman>=2.1->mthree) (2024.2.2)\n",
      "Collecting cryptography>=1.3 (from requests-ntlm>=1.1.0->qiskit-ibm-runtime>=0.22->runningman>=2.1->mthree)\n",
      "  Downloading cryptography-43.0.3-cp39-abi3-win_amd64.whl.metadata (5.4 kB)\n",
      "Collecting pyspnego>=0.4.0 (from requests-ntlm>=1.1.0->qiskit-ibm-runtime>=0.22->runningman>=2.1->mthree)\n",
      "  Downloading pyspnego-0.11.1-py3-none-any.whl.metadata (5.4 kB)\n",
      "Requirement already satisfied: cffi>=1.12 in c:\\users\\hp\\appdata\\local\\programs\\python\\python312\\lib\\site-packages (from cryptography>=1.3->requests-ntlm>=1.1.0->qiskit-ibm-runtime>=0.22->runningman>=2.1->mthree) (1.16.0)\n",
      "Collecting PyJWT<3.0.0,>=2.8.0 (from ibm-cloud-sdk-core<4.0.0,>=3.22.0->ibm-platform-services>=0.22.6->qiskit-ibm-runtime>=0.22->runningman>=2.1->mthree)\n",
      "  Downloading PyJWT-2.9.0-py3-none-any.whl.metadata (3.0 kB)\n",
      "Collecting sspilib>=0.1.0 (from pyspnego>=0.4.0->requests-ntlm>=1.1.0->qiskit-ibm-runtime>=0.22->runningman>=2.1->mthree)\n",
      "  Downloading sspilib-0.2.0-cp312-cp312-win_amd64.whl.metadata (7.5 kB)\n",
      "Requirement already satisfied: pycparser in c:\\users\\hp\\appdata\\local\\programs\\python\\python312\\lib\\site-packages (from cffi>=1.12->cryptography>=1.3->requests-ntlm>=1.1.0->qiskit-ibm-runtime>=0.22->runningman>=2.1->mthree) (2.22)\n",
      "Downloading mthree-2.8.0-cp312-cp312-win_amd64.whl (1.6 MB)\n",
      "   ---------------------------------------- 0.0/1.6 MB ? eta -:--:--\n",
      "   ---- ----------------------------------- 0.2/1.6 MB 5.3 MB/s eta 0:00:01\n",
      "   -------------- ------------------------- 0.6/1.6 MB 8.9 MB/s eta 0:00:01\n",
      "   ------------------------- -------------- 1.0/1.6 MB 8.1 MB/s eta 0:00:01\n",
      "   ------------------------------------ --- 1.5/1.6 MB 9.6 MB/s eta 0:00:01\n",
      "   ---------------------------------------- 1.6/1.6 MB 8.0 MB/s eta 0:00:00\n",
      "Downloading Cython-3.0.11-cp312-cp312-win_amd64.whl (2.8 MB)\n",
      "   ---------------------------------------- 0.0/2.8 MB ? eta -:--:--\n",
      "   ------ --------------------------------- 0.4/2.8 MB 13.5 MB/s eta 0:00:01\n",
      "   ------------ --------------------------- 0.9/2.8 MB 11.3 MB/s eta 0:00:01\n",
      "   ------------------ --------------------- 1.3/2.8 MB 10.2 MB/s eta 0:00:01\n",
      "   ------------------------ --------------- 1.7/2.8 MB 10.8 MB/s eta 0:00:01\n",
      "   -------------------------------- ------- 2.3/2.8 MB 10.3 MB/s eta 0:00:01\n",
      "   ---------------------------------------  2.8/2.8 MB 10.4 MB/s eta 0:00:01\n",
      "   ---------------------------------------- 2.8/2.8 MB 9.4 MB/s eta 0:00:00\n",
      "Downloading runningman-2.2.0-py3-none-any.whl (16 kB)\n",
      "Downloading qiskit_ibm_runtime-0.32.0-py3-none-any.whl (3.0 MB)\n",
      "   ---------------------------------------- 0.0/3.0 MB ? eta -:--:--\n",
      "   ----- ---------------------------------- 0.4/3.0 MB 13.5 MB/s eta 0:00:01\n",
      "   ---------- ----------------------------- 0.7/3.0 MB 9.5 MB/s eta 0:00:01\n",
      "   ----------------- ---------------------- 1.3/3.0 MB 10.5 MB/s eta 0:00:01\n",
      "   --------------------- ------------------ 1.6/3.0 MB 10.2 MB/s eta 0:00:01\n",
      "   ---------------------------- ----------- 2.1/3.0 MB 10.3 MB/s eta 0:00:01\n",
      "   ----------------------------------- ---- 2.6/3.0 MB 10.5 MB/s eta 0:00:01\n",
      "   ---------------------------------------  2.9/3.0 MB 10.5 MB/s eta 0:00:01\n",
      "   ---------------------------------------- 3.0/3.0 MB 9.9 MB/s eta 0:00:00\n",
      "Downloading ibm_platform_services-0.59.0-py3-none-any.whl (340 kB)\n",
      "   ---------------------------------------- 0.0/340.8 kB ? eta -:--:--\n",
      "   --------------------------------------  337.9/340.8 kB 10.6 MB/s eta 0:00:01\n",
      "   ---------------------------------------- 340.8/340.8 kB 7.0 MB/s eta 0:00:00\n",
      "Downloading requests_ntlm-1.3.0-py3-none-any.whl (6.6 kB)\n",
      "Downloading cryptography-43.0.3-cp39-abi3-win_amd64.whl (3.1 MB)\n",
      "   ---------------------------------------- 0.0/3.1 MB ? eta -:--:--\n",
      "   --- ------------------------------------ 0.3/3.1 MB 8.9 MB/s eta 0:00:01\n",
      "   ----------- ---------------------------- 0.9/3.1 MB 9.7 MB/s eta 0:00:01\n",
      "   ------------------ --------------------- 1.4/3.1 MB 9.9 MB/s eta 0:00:01\n",
      "   ------------------------ --------------- 1.9/3.1 MB 10.2 MB/s eta 0:00:01\n",
      "   ----------------------------- ---------- 2.3/3.1 MB 9.7 MB/s eta 0:00:01\n",
      "   ----------------------------------- ---- 2.7/3.1 MB 10.2 MB/s eta 0:00:01\n",
      "   ---------------------------------------  3.1/3.1 MB 9.8 MB/s eta 0:00:01\n",
      "   ---------------------------------------- 3.1/3.1 MB 8.9 MB/s eta 0:00:00\n",
      "Downloading ibm_cloud_sdk_core-3.22.0-py3-none-any.whl (69 kB)\n",
      "   ---------------------------------------- 0.0/69.4 kB ? eta -:--:--\n",
      "   ---------------------------------------- 69.4/69.4 kB 3.7 MB/s eta 0:00:00\n",
      "Downloading pyspnego-0.11.1-py3-none-any.whl (130 kB)\n",
      "   ---------------------------------------- 0.0/130.5 kB ? eta -:--:--\n",
      "   ---------------------------------------- 130.5/130.5 kB 3.9 MB/s eta 0:00:00\n",
      "Downloading PyJWT-2.9.0-py3-none-any.whl (22 kB)\n",
      "Downloading sspilib-0.2.0-cp312-cp312-win_amd64.whl (569 kB)\n",
      "   ---------------------------------------- 0.0/569.2 kB ? eta -:--:--\n",
      "   ---------------------------------- ---- 501.8/569.2 kB 10.5 MB/s eta 0:00:01\n",
      "   ---------------------------------------- 569.2/569.2 kB 8.9 MB/s eta 0:00:00\n",
      "Installing collected packages: sspilib, PyJWT, cython, ibm-cloud-sdk-core, cryptography, pyspnego, ibm-platform-services, requests-ntlm, qiskit-ibm-runtime, runningman, mthree\n",
      "Successfully installed PyJWT-2.9.0 cryptography-43.0.3 cython-3.0.11 ibm-cloud-sdk-core-3.22.0 ibm-platform-services-0.59.0 mthree-2.8.0 pyspnego-0.11.1 qiskit-ibm-runtime-0.32.0 requests-ntlm-1.3.0 runningman-2.2.0 sspilib-0.2.0\n"
     ]
    },
    {
     "name": "stderr",
     "output_type": "stream",
     "text": [
      "\n",
      "[notice] A new release of pip is available: 24.0 -> 24.3.1\n",
      "[notice] To update, run: python.exe -m pip install --upgrade pip\n"
     ]
    }
   ],
   "source": [
    "! pip install qiskit qiskit-aer\n",
    "! pip install mthree"
   ]
  },
  {
   "cell_type": "code",
   "execution_count": 3,
   "metadata": {},
   "outputs": [
    {
     "name": "stdout",
     "output_type": "stream",
     "text": [
      "Original Counts: {'000': 498, '111': 502}\n",
      "Mitigated Counts: {'000': 0.49799999594688416, '111': 0.5019999742507935}\n"
     ]
    },
    {
     "data": {
      "image/png": "[encoded data removed]",
      "text/plain": [
       "<Figure size 640x480 with 1 Axes>"
      ]
     },
     "execution_count": 3,
     "metadata": {},
     "output_type": "execute_result"
    }
   ],
   "source": [
    "# Import necessary modules from Qiskit and mthree\n",
    "from qiskit import QuantumCircuit, transpile, assemble\n",
    "from qiskit_aer import Aer\n",
    "from qiskit.visualization import plot_histogram\n",
    "import mthree\n",
    "\n",
    "# Define the quantum circuit\n",
    "qc = QuantumCircuit(3, 3)\n",
    "\n",
    "# Apply gates and operations to the circuit\n",
    "qc.h(0)        # Hadamard on qubit 0\n",
    "qc.cx(0, 1)    # CNOT from qubit 0 to 1\n",
    "qc.cx(0, 2)    # CNOT from qubit 0 to 2\n",
    "qc.measure([0, 1, 2], [0, 1, 2])  # Measure all qubits\n",
    "\n",
    "# Transpile the circuit for the backend\n",
    "backend = Aer.get_backend('qasm_simulator')\n",
    "transpiled_qc = transpile(qc, backend)\n",
    "\n",
    "# Simulate the circuit directly using BackendV2 (no need for assemble)\n",
    "job = backend.run(transpiled_qc, shots=1000)\n",
    "result = job.result()\n",
    "counts = result.get_counts()\n",
    "\n",
    "# Print original (noisy) measurement results\n",
    "print(f\"Original Counts: {counts}\")\n",
    "\n",
    "# Initialize mthree mitigator and calibrate for qubits [0, 1, 2]\n",
    "mitigator = mthree.M3Mitigation(backend)\n",
    "mitigator.cals_from_system([0, 1, 2])\n",
    "\n",
    "# Apply measurement error mitigation\n",
    "mitigated_counts = mitigator.apply_correction(counts, qubits=[0, 1, 2]).nearest_probability_distribution()\n",
    "\n",
    "# Print mitigated counts\n",
    "print(f\"Mitigated Counts: {mitigated_counts}\")\n",
    "\n",
    "# Plot histograms for original and mitigated counts\n",
    "plot_histogram([counts, mitigated_counts], legend=['Original', 'Mitigated'])\n"
   ]
  }
 ],
 "metadata": {
  "kernelspec": {
   "display_name": "Python 3",
   "language": "python",
   "name": "python3"
  },
  "language_info": {
   "codemirror_mode": {
    "name": "ipython",
    "version": 3
   },
   "file_extension": ".py",
   "mimetype": "text/x-python",
   "name": "python",
   "nbconvert_exporter": "python",
   "pygments_lexer": "ipython3",
   "version": "3.12.2"
  }
 },
 "nbformat": 4,
 "nbformat_minor": 2
}
