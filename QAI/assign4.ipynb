{
 "cells": [
  {
   "cell_type": "code",
   "execution_count": 1,
   "metadata": {},
   "outputs": [],
   "source": [
    "import numpy as np\n",
    "from qiskit import QuantumCircuit\n",
    "from qiskit import transpile\n",
    "from qiskit_aer import Aer\n",
    "from qiskit.quantum_info import Statevector, state_fidelity"
   ]
  },
  {
   "cell_type": "code",
   "execution_count": 2,
   "metadata": {},
   "outputs": [
    {
     "name": "stdout",
     "output_type": "stream",
     "text": [
      "[0.6099289429494388, 0.6744876378487306, 0.681777940482389, 0.7054258903077611]\n"
     ]
    }
   ],
   "source": [
    "\n",
    "# Generate a random quantum circuit\n",
    "def generate_random_circuit(num_qubits, depth):\n",
    "    circuit = QuantumCircuit(num_qubits)\n",
    "    for _ in range(depth):\n",
    "        for qubit in range(num_qubits):\n",
    "            circuit.rx(np.random.uniform(0, 2 * np.pi), qubit)\n",
    "            circuit.ry(np.random.uniform(0, 2 * np.pi), qubit)\n",
    "            circuit.rz(np.random.uniform(0, 2 * np.pi), qubit)\n",
    "        for qubit in range(num_qubits - 1):\n",
    "            circuit.cz(qubit, qubit + 1)\n",
    "    return circuit\n",
    "     \n",
    "\n",
    "# Perform randomized benchmarking\n",
    "def randomized_benchmarking(num_qubits, depths, num_sequences, shots):\n",
    "    backend = Aer.get_backend('aer_simulator')  # AerSimulator backend\n",
    "    results = []\n",
    "    for depth in depths:\n",
    "        success_counts = 0\n",
    "        for _ in range(num_sequences):\n",
    "            # Generate a random circuit and its inverse\n",
    "            circuit = generate_random_circuit(num_qubits, depth)\n",
    "            inverse_circuit = circuit.inverse()\n",
    "\n",
    "            # Transpile the circuits for the backend\n",
    "            transpiled_circuit = transpile(circuit, backend)\n",
    "            transpiled_inverse_circuit = transpile(inverse_circuit, backend)\n",
    "\n",
    "            # Apply the circuit and obtain the final statevector\n",
    "            transpiled_circuit.save_statevector()  # Ensure statevector is saved\n",
    "            circuit_result = backend.run(transpiled_circuit).result()  # Run the transpiled circuit\n",
    "            final_statevector = Statevector(circuit_result.get_statevector())\n",
    "\n",
    "            # Apply the inverse circuit and obtain the final statevector\n",
    "            transpiled_inverse_circuit.save_statevector()  # Ensure statevector is saved\n",
    "            inverse_result = backend.run(transpiled_inverse_circuit).result()  # Run the transpiled inverse circuit\n",
    "            inverse_statevector = Statevector(inverse_result.get_statevector())\n",
    "\n",
    "            # Calculate the fidelity\n",
    "            fidelity = state_fidelity(final_statevector, inverse_statevector)\n",
    "            success_counts += shots * (1 - fidelity)\n",
    "\n",
    "        success_rate = success_counts / (num_sequences * shots)\n",
    "        results.append(success_rate)\n",
    "    return results\n",
    "\n",
    "# Example usage\n",
    "num_qubits = 2\n",
    "depths = [1, 2, 3, 4]\n",
    "num_sequences = 100\n",
    "shots = 1024\n",
    "\n",
    "results = randomized_benchmarking(num_qubits, depths, num_sequences, shots)\n",
    "print(results)\n"
   ]
  }
 ],
 "metadata": {
  "kernelspec": {
   "display_name": "Python 3",
   "language": "python",
   "name": "python3"
  },
  "language_info": {
   "codemirror_mode": {
    "name": "ipython",
    "version": 3
   },
   "file_extension": ".py",
   "mimetype": "text/x-python",
   "name": "python",
   "nbconvert_exporter": "python",
   "pygments_lexer": "ipython3",
   "version": "3.12.2"
  }
 },
 "nbformat": 4,
 "nbformat_minor": 2
}
