{
 "cells": [
  {
   "cell_type": "markdown",
   "id": "ec9d2634",
   "metadata": {},
   "source": [
    "# Assignment 2"
   ]
  },
  {
   "cell_type": "code",
   "execution_count": 4,
   "id": "03739d24-b36e-4e32-9ec6-644d9959a0f3",
   "metadata": {
    "tags": []
   },
   "outputs": [
    {
     "name": "stdout",
     "output_type": "stream",
     "text": [
      "Collecting qiskit-ignis\n",
      "  Using cached qiskit_ignis-0.7.1-py3-none-any.whl.metadata (10 kB)\n",
      "Requirement already satisfied: numpy>=1.13 in c:\\users\\hp\\appdata\\local\\programs\\python\\python312\\lib\\site-packages (from qiskit-ignis) (1.26.4)\n",
      "Collecting qiskit-terra>=0.15.1 (from qiskit-ignis)\n",
      "  Using cached qiskit_terra-0.46.3-cp38-abi3-win_amd64.whl.metadata (13 kB)\n",
      "Requirement already satisfied: retworkx>=0.8.0 in c:\\users\\hp\\appdata\\local\\programs\\python\\python312\\lib\\site-packages (from qiskit-ignis) (0.15.1)\n",
      "Requirement already satisfied: scipy!=0.19.1,>=0.19 in c:\\users\\hp\\appdata\\local\\programs\\python\\python312\\lib\\site-packages (from qiskit-ignis) (1.13.0)\n",
      "Requirement already satisfied: setuptools>=40.1.0 in c:\\users\\hp\\appdata\\local\\programs\\python\\python312\\lib\\site-packages (from qiskit-ignis) (69.5.1)\n",
      "Requirement already satisfied: rustworkx>=0.13.0 in c:\\users\\hp\\appdata\\local\\programs\\python\\python312\\lib\\site-packages (from qiskit-terra>=0.15.1->qiskit-ignis) (0.15.1)\n",
      "Requirement already satisfied: ply>=3.10 in c:\\users\\hp\\appdata\\local\\programs\\python\\python312\\lib\\site-packages (from qiskit-terra>=0.15.1->qiskit-ignis) (3.11)\n",
      "Requirement already satisfied: psutil>=5 in c:\\users\\hp\\appdata\\roaming\\python\\python312\\site-packages (from qiskit-terra>=0.15.1->qiskit-ignis) (5.9.6)\n",
      "Requirement already satisfied: sympy>=1.3 in c:\\users\\hp\\appdata\\local\\programs\\python\\python312\\lib\\site-packages (from qiskit-terra>=0.15.1->qiskit-ignis) (1.13.2)\n",
      "Requirement already satisfied: dill>=0.3 in c:\\users\\hp\\appdata\\local\\programs\\python\\python312\\lib\\site-packages (from qiskit-terra>=0.15.1->qiskit-ignis) (0.3.8)\n",
      "Requirement already satisfied: python-dateutil>=2.8.0 in c:\\users\\hp\\appdata\\roaming\\python\\python312\\site-packages (from qiskit-terra>=0.15.1->qiskit-ignis) (2.8.2)\n",
      "Requirement already satisfied: stevedore>=3.0.0 in c:\\users\\hp\\appdata\\local\\programs\\python\\python312\\lib\\site-packages (from qiskit-terra>=0.15.1->qiskit-ignis) (5.3.0)\n",
      "Requirement already satisfied: six>=1.5 in c:\\users\\hp\\appdata\\roaming\\python\\python312\\site-packages (from python-dateutil>=2.8.0->qiskit-terra>=0.15.1->qiskit-ignis) (1.16.0)\n",
      "Requirement already satisfied: pbr>=2.0.0 in c:\\users\\hp\\appdata\\local\\programs\\python\\python312\\lib\\site-packages (from stevedore>=3.0.0->qiskit-terra>=0.15.1->qiskit-ignis) (6.1.0)\n",
      "Requirement already satisfied: mpmath<1.4,>=1.1.0 in c:\\users\\hp\\appdata\\local\\programs\\python\\python312\\lib\\site-packages (from sympy>=1.3->qiskit-terra>=0.15.1->qiskit-ignis) (1.3.0)\n",
      "Using cached qiskit_ignis-0.7.1-py3-none-any.whl (198 kB)\n",
      "Using cached qiskit_terra-0.46.3-cp38-abi3-win_amd64.whl (5.2 MB)\n",
      "Installing collected packages: qiskit-terra, qiskit-ignis\n"
     ]
    },
    {
     "name": "stderr",
     "output_type": "stream",
     "text": [
      "ERROR: Could not install packages due to an OSError: [WinError 5] Access is denied: 'C:\\\\Users\\\\hp\\\\AppData\\\\Local\\\\Programs\\\\Python\\\\Python312\\\\Lib\\\\site-packages\\\\qiskit\\\\_accelerate.pyd'\n",
      "Consider using the `--user` option or check the permissions.\n",
      "\n",
      "\n",
      "[notice] A new release of pip is available: 24.0 -> 24.3.1\n",
      "[notice] To update, run: python.exe -m pip install --upgrade pip\n"
     ]
    }
   ],
   "source": [
    "! pip install qiskit-ignis"
   ]
  },
  {
   "cell_type": "markdown",
   "id": "ef856ef4-a58e-4af9-a477-8e144f81163c",
   "metadata": {},
   "source": [
    "Title : Tackle Noise with Error Correction"
   ]
  },
  {
   "cell_type": "code",
   "execution_count": 7,
   "id": "a9ab36e9-75c9-40d4-91b4-bba3d4008a24",
   "metadata": {
    "tags": []
   },
   "outputs": [
    {
     "ename": "ImportError",
     "evalue": "Qiskit is installed in an invalid environment that has both Qiskit >=1.0 and an earlier version. You should create a new virtual environment, and ensure that you do not mix dependencies between Qiskit <1.0 and >=1.0. Any packages that depend on 'qiskit-terra' are not compatible with Qiskit 1.0 and will need to be updated. Qiskit unfortunately cannot enforce this requirement during environment resolution. See https://qisk.it/packaging-1-0 for more detail.",
     "output_type": "error",
     "traceback": [
      "\u001b[1;31m---------------------------------------------------------------------------\u001b[0m",
      "\u001b[1;31mImportError\u001b[0m                               Traceback (most recent call last)",
      "Cell \u001b[1;32mIn[7], line 2\u001b[0m\n\u001b[0;32m      1\u001b[0m \u001b[38;5;66;03m# Import necessary modules from Qiskit and mthree\u001b[39;00m\n\u001b[1;32m----> 2\u001b[0m \u001b[38;5;28;01mfrom\u001b[39;00m \u001b[38;5;21;01mqiskit\u001b[39;00m \u001b[38;5;28;01mimport\u001b[39;00m QuantumCircuit, transpile, assemble\n\u001b[0;32m      3\u001b[0m \u001b[38;5;28;01mfrom\u001b[39;00m \u001b[38;5;21;01mqiskit_aer\u001b[39;00m \u001b[38;5;28;01mimport\u001b[39;00m Aer\n\u001b[0;32m      4\u001b[0m \u001b[38;5;28;01mfrom\u001b[39;00m \u001b[38;5;21;01mqiskit\u001b[39;00m\u001b[38;5;21;01m.\u001b[39;00m\u001b[38;5;21;01mvisualization\u001b[39;00m \u001b[38;5;28;01mimport\u001b[39;00m plot_histogram\n",
      "File \u001b[1;32mc:\\Users\\hp\\AppData\\Local\\Programs\\Python\\Python312\\Lib\\site-packages\\qiskit\\__init__.py:38\u001b[0m\n\u001b[0;32m     36\u001b[0m     _suppress_error \u001b[38;5;241m=\u001b[39m os\u001b[38;5;241m.\u001b[39menviron\u001b[38;5;241m.\u001b[39mget(\u001b[38;5;124m\"\u001b[39m\u001b[38;5;124mQISKIT_SUPPRESS_1_0_IMPORT_ERROR\u001b[39m\u001b[38;5;124m\"\u001b[39m, \u001b[38;5;28;01mFalse\u001b[39;00m) \u001b[38;5;241m==\u001b[39m \u001b[38;5;124m\"\u001b[39m\u001b[38;5;124m1\u001b[39m\u001b[38;5;124m\"\u001b[39m\n\u001b[0;32m     37\u001b[0m     \u001b[38;5;28;01mif\u001b[39;00m \u001b[38;5;28mint\u001b[39m(_major) \u001b[38;5;241m>\u001b[39m \u001b[38;5;241m0\u001b[39m \u001b[38;5;129;01mand\u001b[39;00m \u001b[38;5;129;01mnot\u001b[39;00m _suppress_error:\n\u001b[1;32m---> 38\u001b[0m         \u001b[38;5;28;01mraise\u001b[39;00m \u001b[38;5;167;01mImportError\u001b[39;00m(\n\u001b[0;32m     39\u001b[0m             \u001b[38;5;124m\"\u001b[39m\u001b[38;5;124mQiskit is installed in an invalid environment that has both Qiskit >=1.0\u001b[39m\u001b[38;5;124m\"\u001b[39m\n\u001b[0;32m     40\u001b[0m             \u001b[38;5;124m\"\u001b[39m\u001b[38;5;124m and an earlier version.\u001b[39m\u001b[38;5;124m\"\u001b[39m\n\u001b[0;32m     41\u001b[0m             \u001b[38;5;124m\"\u001b[39m\u001b[38;5;124m You should create a new virtual environment, and ensure that you do not mix\u001b[39m\u001b[38;5;124m\"\u001b[39m\n\u001b[0;32m     42\u001b[0m             \u001b[38;5;124m\"\u001b[39m\u001b[38;5;124m dependencies between Qiskit <1.0 and >=1.0.\u001b[39m\u001b[38;5;124m\"\u001b[39m\n\u001b[0;32m     43\u001b[0m             \u001b[38;5;124m\"\u001b[39m\u001b[38;5;124m Any packages that depend on \u001b[39m\u001b[38;5;124m'\u001b[39m\u001b[38;5;124mqiskit-terra\u001b[39m\u001b[38;5;124m'\u001b[39m\u001b[38;5;124m are not compatible with Qiskit 1.0 and\u001b[39m\u001b[38;5;124m\"\u001b[39m\n\u001b[0;32m     44\u001b[0m             \u001b[38;5;124m\"\u001b[39m\u001b[38;5;124m will need to be updated.\u001b[39m\u001b[38;5;124m\"\u001b[39m\n\u001b[0;32m     45\u001b[0m             \u001b[38;5;124m\"\u001b[39m\u001b[38;5;124m Qiskit unfortunately cannot enforce this requirement during environment resolution.\u001b[39m\u001b[38;5;124m\"\u001b[39m\n\u001b[0;32m     46\u001b[0m             \u001b[38;5;124m\"\u001b[39m\u001b[38;5;124m See https://qisk.it/packaging-1-0 for more detail.\u001b[39m\u001b[38;5;124m\"\u001b[39m\n\u001b[0;32m     47\u001b[0m         )\n\u001b[0;32m     49\u001b[0m \u001b[38;5;28;01mimport\u001b[39;00m \u001b[38;5;21;01mqiskit\u001b[39;00m\u001b[38;5;21;01m.\u001b[39;00m\u001b[38;5;21;01m_accelerate\u001b[39;00m\n\u001b[0;32m     50\u001b[0m \u001b[38;5;28;01mimport\u001b[39;00m \u001b[38;5;21;01mqiskit\u001b[39;00m\u001b[38;5;21;01m.\u001b[39;00m\u001b[38;5;21;01m_numpy_compat\u001b[39;00m\n",
      "\u001b[1;31mImportError\u001b[0m: Qiskit is installed in an invalid environment that has both Qiskit >=1.0 and an earlier version. You should create a new virtual environment, and ensure that you do not mix dependencies between Qiskit <1.0 and >=1.0. Any packages that depend on 'qiskit-terra' are not compatible with Qiskit 1.0 and will need to be updated. Qiskit unfortunately cannot enforce this requirement during environment resolution. See https://qisk.it/packaging-1-0 for more detail."
     ]
    }
   ],
   "source": [
    "# Import necessary modules from Qiskit and mthree\n",
    "from qiskit import QuantumCircuit, transpile, assemble\n",
    "from qiskit_aer import Aer\n",
    "from qiskit.visualization import plot_histogram\n",
    "import mthree\n",
    "\n",
    "# Define the quantum circuit\n",
    "qc = QuantumCircuit(3, 3)\n",
    "\n",
    "# Apply gates and operations to the circuit\n",
    "qc.h(0)        # Hadamard on qubit 0\n",
    "qc.cx(0, 1)    # CNOT from qubit 0 to 1\n",
    "qc.cx(0, 2)    # CNOT from qubit 0 to 2\n",
    "qc.measure([0, 1, 2], [0, 1, 2])  # Measure all qubits\n",
    "\n",
    "# Transpile the circuit for the backend\n",
    "backend = Aer.get_backend('qasm_simulator')\n",
    "transpiled_qc = transpile(qc, backend)\n",
    "\n",
    "# Simulate the circuit directly using BackendV2 (no need for assemble)\n",
    "job = backend.run(transpiled_qc, shots=1000)\n",
    "result = job.result()\n",
    "counts = result.get_counts()\n",
    "\n",
    "# Print original (noisy) measurement results\n",
    "print(f\"Original Counts: {counts}\")\n",
    "\n",
    "# Initialize mthree mitigator and calibrate for qubits [0, 1, 2]\n",
    "mitigator = mthree.M3Mitigation(backend)\n",
    "mitigator.cals_from_system([0, 1, 2])\n",
    "\n",
    "# Apply measurement error mitigation\n",
    "mitigated_counts = mitigator.apply_correction(counts, qubits=[0, 1, 2]).nearest_probability_distribution()\n",
    "\n",
    "# Print mitigated counts\n",
    "print(f\"Mitigated Counts: {mitigated_counts}\")\n",
    "\n",
    "# Plot histograms for original and mitigated counts\n",
    "plot_histogram([counts, mitigated_counts], legend=['Original', 'Mitigated'])\n"
   ]
  }
 ],
 "metadata": {
  "kernelspec": {
   "display_name": "Python 3",
   "language": "python",
   "name": "python3"
  },
  "language_info": {
   "codemirror_mode": {
    "name": "ipython",
    "version": 3
   },
   "file_extension": ".py",
   "mimetype": "text/x-python",
   "name": "python",
   "nbconvert_exporter": "python",
   "pygments_lexer": "ipython3",
   "version": "3.12.2"
  },
  "widgets": {
   "application/vnd.jupyter.widget-state+json": {
    "state": {},
    "version_major": 2,
    "version_minor": 0
   }
  }
 },
 "nbformat": 4,
 "nbformat_minor": 5
}
